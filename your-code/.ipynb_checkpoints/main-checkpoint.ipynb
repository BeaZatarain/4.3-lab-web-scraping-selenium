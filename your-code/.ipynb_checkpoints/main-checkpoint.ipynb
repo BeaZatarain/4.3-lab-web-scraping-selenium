{
 "cells": [
  {
   "cell_type": "markdown",
   "metadata": {},
   "source": [
    "# Web Scraping Lab\n",
    "\n",
    "You will find in this notebook some scrapy exercises to practise your scraping skills.\n",
    "\n",
    "**Tips:**\n",
    "\n",
    "- Check the response status code for each request to ensure you have obtained the intended contennt.\n",
    "- Print the response text in each request to understand the kind of info you are getting and its format.\n",
    "- Check for patterns in the response text to extract the data/info requested in each question.\n",
    "- Visit each url and take a look at its source through Chrome DevTools. You'll need to identify the html tags, special class names etc. used for the html content you are expected to extract."
   ]
  },
  {
   "cell_type": "markdown",
   "metadata": {},
   "source": [
    "- [Selenium Doc](https://www.selenium.dev/documentation/)\n",
    "- [Requests library](http://docs.python-requests.org/en/master/#the-user-guide) documentation \n",
    "- [Urllib](https://docs.python.org/3/library/urllib.html#module-urllib)\n",
    "- [re lib](https://docs.python.org/3/library/re.html)\n",
    "- [lxml lib](https://lxml.de/)\n",
    "- [Scrapy](https://scrapy.org/)\n",
    "- [List of HTTP status codes](https://en.wikipedia.org/wiki/List_of_HTTP_status_codes)\n",
    "- [HTML basics](http://www.simplehtmlguide.com/cheatsheet.php)\n",
    "- [CSS basics](https://www.cssbasics.com/#page_start)"
   ]
  },
  {
   "cell_type": "markdown",
   "metadata": {},
   "source": [
    "#### Below are the libraries and modules you may need. `Selenium` and `pandas` are imported for you."
   ]
  },
  {
   "cell_type": "code",
   "execution_count": 1,
   "metadata": {},
   "outputs": [],
   "source": [
    "#%pip install webdriver-manager\n",
    "import pandas as pd\n",
    "from selenium.webdriver.chrome.options import Options\n",
    "from webdriver_manager.chrome import ChromeDriverManager\n",
    "import warnings\n",
    "warnings.filterwarnings('ignore')\n",
    "from selenium import webdriver\n",
    "from selenium.webdriver.common.by import By"
   ]
  },
  {
   "cell_type": "markdown",
   "metadata": {},
   "source": [
    "#### Enable the options you may need. In the next cell you have an example of them but you can choose to use them or not."
   ]
  },
  {
   "cell_type": "code",
   "execution_count": 2,
   "metadata": {},
   "outputs": [],
   "source": [
    "#driver configuration\n",
    "opciones=Options()\n",
    "\n",
    "opciones.add_experimental_option('excludeSwitches', ['enable-automation'])\n",
    "opciones.add_experimental_option('useAutomationExtension', False)\n",
    "opciones.headless=False    # si True, no aperece la ventana (headless=no visible)\n",
    "#opciones.add_argument('--start-maximized')         # comienza maximizado\n",
    "#opciones.add_argument('user-data-dir=selenium')    # mantiene las cookies\n",
    "#opciones.add_extension('driver_folder/adblock.crx')       # adblocker\n",
    "#opciones.add_argument('--incognito')"
   ]
  },
  {
   "cell_type": "code",
   "execution_count": 3,
   "metadata": {},
   "outputs": [],
   "source": [
    "PATH = ChromeDriverManager().install()     # instala el driver de chrome\n",
    "\n",
    "driver=webdriver.Chrome(PATH, options=opciones)      # abre una venta una de chrome\n"
   ]
  },
  {
   "cell_type": "code",
   "execution_count": null,
   "metadata": {},
   "outputs": [],
   "source": []
  },
  {
   "cell_type": "markdown",
   "metadata": {},
   "source": [
    "#### Download, parse, and print the content from the Trending Developers page from GitHub:"
   ]
  },
  {
   "cell_type": "code",
   "execution_count": 4,
   "metadata": {},
   "outputs": [],
   "source": [
    "# This is the url you will scrape in this exercise\n",
    "url = 'https://github.com/trending/developers'"
   ]
  },
  {
   "cell_type": "code",
   "execution_count": 5,
   "metadata": {},
   "outputs": [],
   "source": [
    "driver.get('https://github.com/trending/developers')#your code"
   ]
  },
  {
   "cell_type": "markdown",
   "metadata": {},
   "source": [
    "#### Display the names of the trending developers retrieved in the previous step.\n",
    "\n",
    "Your output should be a Python list of developer names. Each name should not contain any html tag.\n",
    "\n",
    "**Instructions:**\n",
    "\n",
    "1. Find out the html tag and class names used for the developer names.\n",
    "\n",
    "1. Use string manipulation techniques to replace whitespaces and linebreaks (i.e. `\\n`) in the *text* of each html element. Use a list to store the clean names.\n",
    "\n",
    "1. Print the list of names.\n",
    "\n",
    "Your output should look like below:\n",
    "\n",
    "```\n",
    "['trimstray (@trimstray)',\n",
    " 'joewalnes (JoeWalnes)',\n",
    " 'charlax (Charles-AxelDein)',\n",
    " 'ForrestKnight (ForrestKnight)',\n",
    " 'revery-ui (revery-ui)',\n",
    " 'alibaba (Alibaba)',\n",
    " 'Microsoft (Microsoft)',\n",
    " 'github (GitHub)',\n",
    " 'facebook (Facebook)',\n",
    " 'boazsegev (Bo)',\n",
    " 'google (Google)',\n",
    " 'cloudfetch',\n",
    " 'sindresorhus (SindreSorhus)',\n",
    " 'tensorflow',\n",
    " 'apache (TheApacheSoftwareFoundation)',\n",
    " 'DevonCrawford (DevonCrawford)',\n",
    " 'ARMmbed (ArmMbed)',\n",
    " 'vuejs (vuejs)',\n",
    " 'fastai (fast.ai)',\n",
    " 'QiShaoXuan (Qi)',\n",
    " 'joelparkerhenderson (JoelParkerHenderson)',\n",
    " 'torvalds (LinusTorvalds)',\n",
    " 'CyC2018',\n",
    " 'komeiji-satori (神楽坂覚々)',\n",
    " 'script-8']\n",
    " ```"
   ]
  },
  {
   "cell_type": "code",
   "execution_count": 6,
   "metadata": {},
   "outputs": [],
   "source": [
    "import requests as req\n",
    "\n",
    "from bs4 import BeautifulSoup as bs"
   ]
  },
  {
   "cell_type": "code",
   "execution_count": 7,
   "metadata": {},
   "outputs": [],
   "source": [
    "names = driver.find_element(By.XPATH, '//*[@id=\"pa-a8m\"]/div[2]/div[1]/div[1]/h1/a').text\n",
    "\n",
    "\n",
    "\n",
    "usuarios = driver.find_element(By.XPATH, '//*[@id=\"pa-a8m\"]/div[2]/div[1]/div[1]/p/a').text\n",
    "\n"
   ]
  },
  {
   "cell_type": "code",
   "execution_count": 8,
   "metadata": {},
   "outputs": [
    {
     "data": {
      "text/plain": [
       "['Ariel Mashraki',\n",
       " 'Mattias Wadman',\n",
       " 'Henrik Rydgård',\n",
       " 'Mark Tyneway',\n",
       " 'Lincoln Stein',\n",
       " 'jxxghp',\n",
       " 'Paul Razvan Berg',\n",
       " 'Florian Roth',\n",
       " 'MichaIng',\n",
       " 'Vectorized',\n",
       " 'Lianmin Zheng',\n",
       " 'X.',\n",
       " 'Norbert de Langen',\n",
       " 'Stefan Prodan',\n",
       " 'Jaco',\n",
       " 'François Chollet',\n",
       " 'Michał Lytek',\n",
       " 'Lukas Taegert-Atkinson',\n",
       " 'Ben McCann',\n",
       " 'Antonio Cheong',\n",
       " 'Maarten Grootendorst',\n",
       " 'Leon',\n",
       " 'syuilo',\n",
       " 'Abhinav Gupta',\n",
       " 'Yair Morgenstern']"
      ]
     },
     "execution_count": 8,
     "metadata": {},
     "output_type": "execute_result"
    }
   ],
   "source": [
    "names = driver.find_elements(By.CLASS_NAME, 'h3.lh-condensed')\n",
    "\n",
    "\n",
    "\n",
    "listanames=[e.text for e in names]\n",
    "\n",
    "listanames"
   ]
  },
  {
   "cell_type": "code",
   "execution_count": 9,
   "metadata": {},
   "outputs": [
    {
     "data": {
      "text/plain": [
       "['a8m',\n",
       " 'wader',\n",
       " 'hrydgard',\n",
       " 'tynes',\n",
       " 'lstein',\n",
       " 'jxxghp',\n",
       " 'PaulRBerg',\n",
       " 'Neo23x0',\n",
       " 'Vectorized',\n",
       " 'merrymercy',\n",
       " 'ije',\n",
       " 'ndelangen',\n",
       " 'stefanprodan',\n",
       " 'jacogr',\n",
       " 'fchollet',\n",
       " 'MichalLytek',\n",
       " 'lukastaegert',\n",
       " 'benmccann',\n",
       " 'acheong08',\n",
       " 'MaartenGr',\n",
       " 'ultrafunkamsterdam',\n",
       " 'syuilo',\n",
       " 'abhinav',\n",
       " 'yairm210']"
      ]
     },
     "execution_count": 9,
     "metadata": {},
     "output_type": "execute_result"
    }
   ],
   "source": [
    "usuarios = driver.find_elements(By.CLASS_NAME, 'f4.text-normal.mb-1')\n",
    "\n",
    "listausuarios = [e.text for e in usuarios]\n",
    "\n",
    "listausuarios"
   ]
  },
  {
   "cell_type": "code",
   "execution_count": 10,
   "metadata": {},
   "outputs": [
    {
     "data": {
      "text/plain": [
       "['Ariel Mashraki (a8m)',\n",
       " 'Mattias Wadman (wader)',\n",
       " 'Henrik Rydgård (hrydgard)',\n",
       " 'Mark Tyneway (tynes)',\n",
       " 'Lincoln Stein (lstein)',\n",
       " 'jxxghp (jxxghp)',\n",
       " 'Paul Razvan Berg (PaulRBerg)',\n",
       " 'Florian Roth (Neo23x0)',\n",
       " 'MichaIng (Vectorized)',\n",
       " 'Vectorized (merrymercy)',\n",
       " 'Lianmin Zheng (ije)',\n",
       " 'X. (ndelangen)',\n",
       " 'Norbert de Langen (stefanprodan)',\n",
       " 'Stefan Prodan (jacogr)',\n",
       " 'Jaco (fchollet)',\n",
       " 'François Chollet (MichalLytek)',\n",
       " 'Michał Lytek (lukastaegert)',\n",
       " 'Lukas Taegert-Atkinson (benmccann)',\n",
       " 'Ben McCann (acheong08)',\n",
       " 'Antonio Cheong (MaartenGr)',\n",
       " 'Maarten Grootendorst (ultrafunkamsterdam)',\n",
       " 'Leon (syuilo)',\n",
       " 'syuilo (abhinav)',\n",
       " 'Abhinav Gupta (yairm210)']"
      ]
     },
     "execution_count": 10,
     "metadata": {},
     "output_type": "execute_result"
    }
   ],
   "source": [
    "listafinaltrendings = []\n",
    "\n",
    "for e, i in zip(listanames, listausuarios):\n",
    "    listafinaltrendings.append(e + ' (' + i + ')')\n",
    "\n",
    "listafinaltrendings"
   ]
  },
  {
   "cell_type": "markdown",
   "metadata": {},
   "source": [
    "#### Display the trending Python repositories in GitHub\n",
    "\n",
    "The steps to solve this problem is similar to the previous one except that you need to find out the repository names instead of developer names."
   ]
  },
  {
   "cell_type": "code",
   "execution_count": 11,
   "metadata": {},
   "outputs": [],
   "source": [
    "# This is the url you will scrape in this exercise\n",
    "url = 'https://github.com/trending/python?since=daily'"
   ]
  },
  {
   "cell_type": "code",
   "execution_count": 12,
   "metadata": {},
   "outputs": [],
   "source": [
    "driver=webdriver.Chrome(PATH, options=opciones)  \n",
    "driver.get('https://github.com/trending/python?since=daily')"
   ]
  },
  {
   "cell_type": "code",
   "execution_count": 13,
   "metadata": {},
   "outputs": [
    {
     "data": {
      "text/plain": [
       "['acheong08 / ChatGPT',\n",
       " 'Zero6992 / chatGPT-discord-bot',\n",
       " 'TheAlgorithms / Python',\n",
       " 'LAION-AI / Open-Assistant',\n",
       " 'ddPn08 / Lsmith',\n",
       " 'zhayujie / chatgpt-on-wechat',\n",
       " 'LeagueOfPoro / CapsuleFarmerEvolved',\n",
       " 'microsoft / BioGPT',\n",
       " 'BlinkDL / ChatRWKV',\n",
       " 'AIGCT / EASYChatGPT',\n",
       " 'mmz-001 / knowledge_gpt',\n",
       " 'jxxghp / nas-tools',\n",
       " 'tiangolo / fastapi',\n",
       " 'TomSchimansky / CustomTkinter',\n",
       " 'Rudrabha / Wav2Lip',\n",
       " 'public-apis / public-apis',\n",
       " 'biancangming / wtv',\n",
       " 'chidiwilliams / buzz',\n",
       " 'bellingcat / octosuite',\n",
       " 'approximatelabs / sketch',\n",
       " 'yerfor / GeneFace',\n",
       " 'uptrain-ai / uptrain',\n",
       " 'facebookresearch / metaseq',\n",
       " 'lss233 / chatgpt-mirai-qq-bot',\n",
       " 'ansible / ansible']"
      ]
     },
     "execution_count": 13,
     "metadata": {},
     "output_type": "execute_result"
    }
   ],
   "source": [
    "repositorios = driver.find_elements(By.CLASS_NAME, 'h3.lh-condensed')\n",
    "\n",
    "listarepositorios = [e.text for e in repositorios]\n",
    "\n",
    "listarepositorios"
   ]
  },
  {
   "cell_type": "markdown",
   "metadata": {},
   "source": [
    "#### Display all the image links from Walt Disney wikipedia page"
   ]
  },
  {
   "cell_type": "code",
   "execution_count": 14,
   "metadata": {},
   "outputs": [],
   "source": [
    "# This is the url you will scrape in this exercise\n",
    "url = 'https://en.wikipedia.org/wiki/Walt_Disney'"
   ]
  },
  {
   "cell_type": "code",
   "execution_count": 15,
   "metadata": {},
   "outputs": [],
   "source": [
    "driver=webdriver.Chrome(PATH, options=opciones)  \n",
    "driver.get('https://en.wikipedia.org/wiki/Walt_Disney')"
   ]
  },
  {
   "cell_type": "code",
   "execution_count": 16,
   "metadata": {},
   "outputs": [
    {
     "data": {
      "text/plain": [
       "'https://en.wikipedia.org/wiki/File:Walt_Disney_envelope_ca._1921.jpg'"
      ]
     },
     "execution_count": 16,
     "metadata": {},
     "output_type": "execute_result"
    }
   ],
   "source": [
    "fotos = driver.find_elements(By.CLASS_NAME, 'image')[3].get_attribute('href')\n",
    "\n",
    "fotos"
   ]
  },
  {
   "cell_type": "code",
   "execution_count": 17,
   "metadata": {},
   "outputs": [
    {
     "data": {
      "text/plain": [
       "['https://en.wikipedia.org/wiki/File:Walt_Disney_1946.JPG',\n",
       " 'https://en.wikipedia.org/wiki/File:Walt_Disney_1942_signature.svg',\n",
       " 'https://en.wikipedia.org/wiki/File:Walt_Disney_Birthplace_Exterior_Hermosa_Chicago_Illinois.jpg',\n",
       " 'https://en.wikipedia.org/wiki/File:Walt_Disney_envelope_ca._1921.jpg',\n",
       " 'https://en.wikipedia.org/wiki/File:Trolley_Troubles_poster.jpg',\n",
       " 'https://en.wikipedia.org/wiki/File:Steamboat-willie.jpg',\n",
       " 'https://en.wikipedia.org/wiki/File:Walt_Disney_1935.jpg',\n",
       " 'https://en.wikipedia.org/wiki/File:Walt_Disney_Snow_white_1937_trailer_screenshot_(13).jpg',\n",
       " 'https://en.wikipedia.org/wiki/File:Disney_drawing_goofy.jpg',\n",
       " 'https://en.wikipedia.org/wiki/File:WaltDisneyplansDisneylandDec1954.jpg',\n",
       " 'https://en.wikipedia.org/wiki/File:Walt_disney_portrait_right.jpg',\n",
       " 'https://en.wikipedia.org/wiki/File:Walt_Disney_Grave.JPG',\n",
       " 'https://en.wikipedia.org/wiki/File:Roy_O._Disney_with_Company_at_Press_Conference.jpg',\n",
       " 'https://en.wikipedia.org/wiki/File:DisneySchiphol1951.jpg',\n",
       " 'https://en.wikipedia.org/wiki/File:Disney1968.jpg',\n",
       " 'https://en.wikipedia.org/wiki/File:Disney_Oscar_1953_(cropped).jpg',\n",
       " 'https://en.wikipedia.org/wiki/File:Disneyland_Resort_logo.svg',\n",
       " 'https://en.wikipedia.org/wiki/File:Animation_disc.svg',\n",
       " 'https://en.wikipedia.org/wiki/File:Magic_Kingdom_castle.jpg',\n",
       " 'https://en.wikipedia.org/wiki/File:Blank_television_set.svg']"
      ]
     },
     "execution_count": 17,
     "metadata": {},
     "output_type": "execute_result"
    }
   ],
   "source": [
    "listafotos = [e.get_attribute('href') for e in driver.find_elements(By.CLASS_NAME, 'image')]\n",
    "\n",
    "listafotos"
   ]
  },
  {
   "cell_type": "markdown",
   "metadata": {},
   "source": [
    "#### Retrieve an arbitary Wikipedia page of \"Python\" and create a list of links on that page"
   ]
  },
  {
   "cell_type": "code",
   "execution_count": 18,
   "metadata": {},
   "outputs": [],
   "source": [
    "# This is the url you will scrape in this exercise\n",
    "url ='https://en.wikipedia.org/wiki/Python' "
   ]
  },
  {
   "cell_type": "code",
   "execution_count": 19,
   "metadata": {},
   "outputs": [],
   "source": [
    "#your code\n",
    "driver.get(url)"
   ]
  },
  {
   "cell_type": "code",
   "execution_count": 20,
   "metadata": {},
   "outputs": [
    {
     "data": {
      "text/plain": [
       "'https://en.wikipedia.org/w/index.php?title=Special:CreateAccount&returnto=Python'"
      ]
     },
     "execution_count": 20,
     "metadata": {},
     "output_type": "execute_result"
    }
   ],
   "source": [
    "links = driver.find_elements(By.TAG_NAME, 'a')[3].get_attribute('href')\n",
    "\n",
    "links"
   ]
  },
  {
   "cell_type": "code",
   "execution_count": 21,
   "metadata": {},
   "outputs": [
    {
     "data": {
      "text/plain": [
       "'https://en.wikipedia.org/wiki/Wikipedia:Contents'"
      ]
     },
     "execution_count": 21,
     "metadata": {},
     "output_type": "execute_result"
    }
   ],
   "source": [
    "listalinks = [e.get_attribute('href') for e in driver.find_elements(By.TAG_NAME, 'a')]\n",
    "\n",
    "listalinks[10]"
   ]
  },
  {
   "cell_type": "markdown",
   "metadata": {},
   "source": [
    "#### Number of Titles that have changed in the United States Code since its last release point "
   ]
  },
  {
   "cell_type": "code",
   "execution_count": 22,
   "metadata": {},
   "outputs": [],
   "source": [
    "# This is the url you will scrape in this exercise\n",
    "url = 'http://uscode.house.gov/download/download.shtml'"
   ]
  },
  {
   "cell_type": "code",
   "execution_count": 23,
   "metadata": {},
   "outputs": [],
   "source": [
    "driver.get(url)"
   ]
  },
  {
   "cell_type": "code",
   "execution_count": 24,
   "metadata": {},
   "outputs": [
    {
     "data": {
      "text/plain": [
       "['Title 2 - The Congress',\n",
       " 'Title 6 - Domestic Security',\n",
       " 'Title 15 - Commerce and Trade',\n",
       " 'Title 16 - Conservation',\n",
       " 'Title 18 - Crimes and Criminal Procedure ٭',\n",
       " 'Title 22 - Foreign Relations and Intercourse',\n",
       " 'Title 23 - Highways ٭',\n",
       " 'Title 25 - Indians',\n",
       " 'Title 29 - Labor',\n",
       " 'Title 31 - Money and Finance ٭',\n",
       " 'Title 34 - Crime Control and Law Enforcement',\n",
       " \"Title 38 - Veterans' Benefits ٭\",\n",
       " 'Title 41 - Public Contracts ٭',\n",
       " 'Title 42 - The Public Health and Welfare']"
      ]
     },
     "execution_count": 24,
     "metadata": {},
     "output_type": "execute_result"
    }
   ],
   "source": [
    "cambios = driver.find_elements(By.CLASS_NAME, 'usctitlechanged')\n",
    "\n",
    "listacambios = [e.text for e in cambios]\n",
    "\n",
    "listacambios"
   ]
  },
  {
   "cell_type": "markdown",
   "metadata": {},
   "source": [
    "#### A Python list with the top ten FBI's Most Wanted names "
   ]
  },
  {
   "cell_type": "code",
   "execution_count": 25,
   "metadata": {},
   "outputs": [],
   "source": [
    "# This is the url you will scrape in this exercise\n",
    "url = 'https://www.fbi.gov/wanted/topten'"
   ]
  },
  {
   "cell_type": "code",
   "execution_count": 26,
   "metadata": {},
   "outputs": [],
   "source": [
    "driver.get(url)"
   ]
  },
  {
   "cell_type": "code",
   "execution_count": 27,
   "metadata": {},
   "outputs": [
    {
     "data": {
      "text/plain": [
       "['RUJA IGNATOVA',\n",
       " 'ARNOLDO JIMENEZ',\n",
       " 'OMAR ALEXANDER CARDENAS',\n",
       " 'ALEXIS FLORES',\n",
       " 'YULAN ADONAY ARCHAGA CARIAS',\n",
       " 'BHADRESHKUMAR CHETANBHAI PATEL',\n",
       " 'ALEJANDRO ROSALES CASTILLO',\n",
       " 'JOSE RODOLFO VILLARREAL-HERNANDEZ',\n",
       " 'MICHAEL JAMES PRATT',\n",
       " 'RAFAEL CARO-QUINTERO']"
      ]
     },
     "execution_count": 27,
     "metadata": {},
     "output_type": "execute_result"
    }
   ],
   "source": [
    "buscados = driver.find_elements(By.CLASS_NAME, 'title')\n",
    "\n",
    "listabuscados = [e.text for e in buscados]\n",
    "\n",
    "listabuscados[1:]"
   ]
  },
  {
   "cell_type": "markdown",
   "metadata": {},
   "source": [
    "####  20 latest earthquakes info (date, time, latitude, longitude and region name) by the EMSC as a pandas dataframe"
   ]
  },
  {
   "cell_type": "code",
   "execution_count": 28,
   "metadata": {},
   "outputs": [],
   "source": [
    "# This is the url you will scrape in this exercise\n",
    "url = 'https://www.emsc-csem.org/Earthquake/'"
   ]
  },
  {
   "cell_type": "code",
   "execution_count": 29,
   "metadata": {},
   "outputs": [],
   "source": [
    "driver.get(url)"
   ]
  },
  {
   "cell_type": "code",
   "execution_count": 30,
   "metadata": {},
   "outputs": [
    {
     "data": {
      "text/plain": [
       "['Citizen\\nResponse',\n",
       " 'Date & Time\\nUTC',\n",
       " 'Latitude\\ndegrees',\n",
       " 'Longitude\\ndegrees',\n",
       " 'Depth\\nkm',\n",
       " 'Mag\\n[+]',\n",
       " 'Region name\\n[+]',\n",
       " '']"
      ]
     },
     "execution_count": 30,
     "metadata": {},
     "output_type": "execute_result"
    }
   ],
   "source": [
    "cabeceras = driver.find_elements(By.CLASS_NAME, 'th2')\n",
    "\n",
    "litacabeceras = [e.text.strip() for e in cabeceras]\n",
    "\n",
    "litacabeceras"
   ]
  },
  {
   "cell_type": "code",
   "execution_count": 31,
   "metadata": {},
   "outputs": [
    {
     "data": {
      "text/plain": [
       "['2023-02-08   15:32:43.4\\n22min ago',\n",
       " '2023-02-08   15:29:29.0\\n25min ago',\n",
       " '2023-02-08   15:28:32.1\\n26min ago',\n",
       " '2023-02-08   15:25:58.3\\n28min ago',\n",
       " '2023-02-08   15:23:04.7\\n31min ago',\n",
       " '2023-02-08   15:22:32.2\\n32min ago',\n",
       " '2023-02-08   15:21:31.8\\n33min ago',\n",
       " '2023-02-08   15:16:17.3\\n38min ago',\n",
       " '2023-02-08   15:11:13.0\\n43min ago',\n",
       " '2023-02-08   15:07:23.8\\n47min ago',\n",
       " '2023-02-08   15:04:43.1\\n50min ago',\n",
       " '2023-02-08   15:00:05.9\\n54min ago',\n",
       " '2023-02-08   14:57:46.4\\n56min ago',\n",
       " '2023-02-08   14:55:50.9\\n58min ago',\n",
       " '2023-02-08   14:39:22.2\\n1hr 15min ago',\n",
       " '2023-02-08   14:38:15.0\\n1hr 16min ago',\n",
       " '2023-02-08   14:34:37.0\\n1hr 20min ago',\n",
       " '2023-02-08   14:33:22.8\\n1hr 21min ago',\n",
       " '2023-02-08   14:30:30.6\\n1hr 24min ago',\n",
       " '2023-02-08   14:28:48.9\\n1hr 25min ago',\n",
       " '2023-02-08   14:20:26.5\\n1hr 34min ago',\n",
       " '2023-02-08   14:17:21.5\\n1hr 37min ago',\n",
       " '2023-02-08   14:15:04.2\\n1hr 39min ago',\n",
       " '2023-02-08   14:12:16.6\\n1hr 42min ago',\n",
       " '2023-02-08   14:05:26.0\\n1hr 49min ago',\n",
       " '2023-02-08   14:04:57.0\\n1hr 49min ago',\n",
       " '2023-02-08   14:04:45.6\\n1hr 50min ago',\n",
       " '2023-02-08   13:50:19.8\\n2hr 04min ago',\n",
       " '2023-02-08   13:49:13.9\\n2hr 05min ago',\n",
       " '2023-02-08   13:36:51.6\\n2hr 17min ago',\n",
       " '2023-02-08   13:36:00.6\\n2hr 18min ago',\n",
       " '2023-02-08   13:33:20.3\\n2hr 21min ago',\n",
       " '2023-02-08   13:31:28.9\\n2hr 23min ago',\n",
       " '2023-02-08   13:29:31.8\\n2hr 25min ago',\n",
       " '2023-02-08   13:27:06.0\\n2hr 27min ago',\n",
       " '2023-02-08   13:22:45.9\\n2hr 32min ago',\n",
       " '2023-02-08   13:21:15.0\\n2hr 33min ago',\n",
       " '2023-02-08   13:18:44.3\\n2hr 36min ago',\n",
       " '2023-02-08   13:14:15.1\\n2hr 40min ago',\n",
       " '2023-02-08   13:10:17.9\\n2hr 44min ago',\n",
       " '2023-02-08   13:07:49.0\\n2hr 46min ago',\n",
       " '2023-02-08   13:06:56.0\\n2hr 47min ago',\n",
       " '2023-02-08   13:06:10.7\\n2hr 48min ago',\n",
       " '2023-02-08   12:59:32.5\\n2hr 55min ago',\n",
       " '2023-02-08   12:58:38.0\\n2hr 56min ago',\n",
       " '2023-02-08   12:55:29.0\\n2hr 59min ago',\n",
       " '2023-02-08   12:45:28.8\\n3hr 09min ago',\n",
       " '2023-02-08   12:42:24.0\\n3hr 12min ago',\n",
       " '2023-02-08   12:41:12.1\\n3hr 13min ago',\n",
       " '2023-02-08   12:40:57.0\\n3hr 13min ago']"
      ]
     },
     "execution_count": 31,
     "metadata": {},
     "output_type": "execute_result"
    }
   ],
   "source": [
    "date = driver.find_elements(By.CLASS_NAME, 'tabev6')\n",
    "\n",
    "litsadate = [e.text.strip() for e in date]\n",
    "\n",
    "\n",
    "\n",
    "litsadate"
   ]
  },
  {
   "cell_type": "code",
   "execution_count": 32,
   "metadata": {},
   "outputs": [
    {
     "data": {
      "text/plain": [
       "['4.72',\n",
       " '42.05',\n",
       " '38.15',\n",
       " '39.02',\n",
       " '37.58',\n",
       " '19.17',\n",
       " '39.14',\n",
       " '16.75',\n",
       " '38.12',\n",
       " '38.54',\n",
       " '38.04',\n",
       " '38.12',\n",
       " '37.30',\n",
       " '38.11',\n",
       " '38.10',\n",
       " '34.53',\n",
       " '37.33',\n",
       " '38.11',\n",
       " '15.38',\n",
       " '37.25',\n",
       " '37.99',\n",
       " '38.10',\n",
       " '37.99',\n",
       " '38.13',\n",
       " '34.55',\n",
       " '38.03',\n",
       " '46.45',\n",
       " '19.26',\n",
       " '37.25',\n",
       " '37.80',\n",
       " '37.17',\n",
       " '38.11',\n",
       " '38.06',\n",
       " '36.32',\n",
       " '11.31',\n",
       " '37.99',\n",
       " '2.47',\n",
       " '38.10',\n",
       " '38.08',\n",
       " '37.59',\n",
       " '18.53',\n",
       " '2.83',\n",
       " '38.07',\n",
       " '44.80',\n",
       " '8.39',\n",
       " '12.24',\n",
       " '37.33',\n",
       " '2.51',\n",
       " '37.54',\n",
       " '2.46']"
      ]
     },
     "execution_count": 32,
     "metadata": {},
     "output_type": "execute_result"
    }
   ],
   "source": [
    "latitude = driver.find_elements(By.CLASS_NAME, 'tabev1')\n",
    "\n",
    "latlist= [e.text.strip() for e in latitude]\n",
    "\n",
    "latlist = latlist[0::2]\n",
    "\n",
    "\n",
    "\n",
    "\n",
    "latlist "
   ]
  },
  {
   "cell_type": "code",
   "execution_count": 33,
   "metadata": {},
   "outputs": [
    {
     "data": {
      "text/plain": [
       "['39.21',\n",
       " '73.92',\n",
       " '38.34',\n",
       " '40.81',\n",
       " '38.06',\n",
       " '155.49',\n",
       " '40.15',\n",
       " '86.08',\n",
       " '38.26',\n",
       " '37.76',\n",
       " '37.04',\n",
       " '37.24',\n",
       " '37.05',\n",
       " '38.53',\n",
       " '36.67',\n",
       " '70.37',\n",
       " '37.06',\n",
       " '36.18',\n",
       " '94.48',\n",
       " '36.79',\n",
       " '37.38',\n",
       " '36.64',\n",
       " '36.60',\n",
       " '37.96',\n",
       " '179.79',\n",
       " '38.21',\n",
       " '7.47',\n",
       " '155.41',\n",
       " '36.96',\n",
       " '37.93',\n",
       " '36.69',\n",
       " '37.75',\n",
       " '36.66',\n",
       " '35.98',\n",
       " '124.55',\n",
       " '38.21',\n",
       " '140.69',\n",
       " '36.59',\n",
       " '36.59',\n",
       " '33.01',\n",
       " '69.77',\n",
       " '127.11',\n",
       " '36.65',\n",
       " '110.97',\n",
       " '120.52',\n",
       " '75.29',\n",
       " '37.08',\n",
       " '140.69',\n",
       " '37.31',\n",
       " '140.68']"
      ]
     },
     "execution_count": 33,
     "metadata": {},
     "output_type": "execute_result"
    }
   ],
   "source": [
    "longitude = driver.find_elements(By.CLASS_NAME, 'tabev1')\n",
    "\n",
    "lonlist= [e.text.strip() for e in longitude]\n",
    "\n",
    "lonlist = lonlist[1::2]\n",
    "\n",
    "lonlist "
   ]
  },
  {
   "cell_type": "code",
   "execution_count": 34,
   "metadata": {},
   "outputs": [
    {
     "data": {
      "text/plain": [
       "['KENYA',\n",
       " 'ISLA CHILOE, LOS LAGOS, CHILE',\n",
       " 'EASTERN TURKEY',\n",
       " 'EASTERN TURKEY',\n",
       " 'EASTERN TURKEY',\n",
       " 'ISLAND OF HAWAII, HAWAII',\n",
       " 'EASTERN TURKEY',\n",
       " 'OFFSHORE HONDURAS',\n",
       " 'EASTERN TURKEY',\n",
       " 'CENTRAL TURKEY',\n",
       " 'CENTRAL TURKEY',\n",
       " 'CENTRAL TURKEY',\n",
       " 'CENTRAL TURKEY',\n",
       " 'EASTERN TURKEY',\n",
       " 'CENTRAL TURKEY',\n",
       " \"LIBERTADOR O'HIGGINS, CHILE\",\n",
       " 'CENTRAL TURKEY',\n",
       " 'CENTRAL TURKEY',\n",
       " 'OFFSHORE OAXACA, MEXICO',\n",
       " 'CENTRAL TURKEY',\n",
       " 'CENTRAL TURKEY',\n",
       " 'CENTRAL TURKEY',\n",
       " 'CENTRAL TURKEY',\n",
       " 'CENTRAL TURKEY',\n",
       " 'SOUTH OF KERMADEC ISLANDS',\n",
       " 'EASTERN TURKEY',\n",
       " 'SWITZERLAND',\n",
       " 'ISLAND OF HAWAII, HAWAII',\n",
       " 'CENTRAL TURKEY',\n",
       " 'CENTRAL TURKEY',\n",
       " 'CENTRAL TURKEY',\n",
       " 'CENTRAL TURKEY',\n",
       " 'CENTRAL TURKEY',\n",
       " 'CENTRAL TURKEY',\n",
       " 'LEYTE, PHILIPPINES',\n",
       " 'EASTERN TURKEY',\n",
       " 'NEAR N COAST OF PAPUA, INDONESIA',\n",
       " 'CENTRAL TURKEY',\n",
       " 'CENTRAL TURKEY',\n",
       " 'CENTRAL TURKEY',\n",
       " 'TARAPACA, CHILE',\n",
       " 'MOLUCCA SEA',\n",
       " 'CENTRAL TURKEY',\n",
       " 'YELLOWSTONE NAT. PARK, WYOMING',\n",
       " 'FLORES REGION, INDONESIA',\n",
       " 'CENTRAL PERU',\n",
       " 'CENTRAL TURKEY',\n",
       " 'NEAR N COAST OF PAPUA, INDONESIA',\n",
       " 'CENTRAL TURKEY',\n",
       " 'NEAR N COAST OF PAPUA, INDONESIA']"
      ]
     },
     "execution_count": 34,
     "metadata": {},
     "output_type": "execute_result"
    }
   ],
   "source": [
    "region = driver.find_elements(By.CLASS_NAME, 'tb_region')\n",
    "\n",
    "listaregion= [e.text.strip() for e in region]\n",
    "\n",
    "\n",
    "listaregion"
   ]
  },
  {
   "cell_type": "code",
   "execution_count": 35,
   "metadata": {},
   "outputs": [
    {
     "data": {
      "text/html": [
       "<div>\n",
       "<style scoped>\n",
       "    .dataframe tbody tr th:only-of-type {\n",
       "        vertical-align: middle;\n",
       "    }\n",
       "\n",
       "    .dataframe tbody tr th {\n",
       "        vertical-align: top;\n",
       "    }\n",
       "\n",
       "    .dataframe thead th {\n",
       "        text-align: right;\n",
       "    }\n",
       "</style>\n",
       "<table border=\"1\" class=\"dataframe\">\n",
       "  <thead>\n",
       "    <tr style=\"text-align: right;\">\n",
       "      <th></th>\n",
       "      <th>Citizen\\nResponse</th>\n",
       "      <th>Date &amp; Time\\nUTC</th>\n",
       "      <th>Latitude\\ndegrees</th>\n",
       "      <th>Longitude\\ndegrees</th>\n",
       "      <th>Depth\\nkm</th>\n",
       "      <th>Mag\\n[+]</th>\n",
       "      <th>Region name\\n[+]</th>\n",
       "      <th></th>\n",
       "    </tr>\n",
       "  </thead>\n",
       "  <tbody>\n",
       "  </tbody>\n",
       "</table>\n",
       "</div>"
      ],
      "text/plain": [
       "Empty DataFrame\n",
       "Columns: [Citizen\n",
       "Response, Date & Time\n",
       "UTC, Latitude\n",
       "degrees, Longitude\n",
       "degrees, Depth\n",
       "km, Mag\n",
       "[+], Region name\n",
       "[+], ]\n",
       "Index: []"
      ]
     },
     "execution_count": 35,
     "metadata": {},
     "output_type": "execute_result"
    }
   ],
   "source": [
    "import pandas as pd\n",
    "\n",
    "df = pd.DataFrame(columns=litacabeceras)\n",
    "\n",
    "df\n",
    "\n"
   ]
  },
  {
   "cell_type": "code",
   "execution_count": 36,
   "metadata": {},
   "outputs": [
    {
     "data": {
      "text/html": [
       "<div>\n",
       "<style scoped>\n",
       "    .dataframe tbody tr th:only-of-type {\n",
       "        vertical-align: middle;\n",
       "    }\n",
       "\n",
       "    .dataframe tbody tr th {\n",
       "        vertical-align: top;\n",
       "    }\n",
       "\n",
       "    .dataframe thead th {\n",
       "        text-align: right;\n",
       "    }\n",
       "</style>\n",
       "<table border=\"1\" class=\"dataframe\">\n",
       "  <thead>\n",
       "    <tr style=\"text-align: right;\">\n",
       "      <th></th>\n",
       "      <th>Citizen\\nResponse</th>\n",
       "      <th>Date &amp; Time\\nUTC</th>\n",
       "      <th>Latitude\\ndegrees</th>\n",
       "      <th>Longitude\\ndegrees</th>\n",
       "      <th>Depth\\nkm</th>\n",
       "      <th>Mag\\n[+]</th>\n",
       "      <th>Region name\\n[+]</th>\n",
       "      <th></th>\n",
       "    </tr>\n",
       "  </thead>\n",
       "  <tbody>\n",
       "    <tr>\n",
       "      <th>0</th>\n",
       "      <td>NaN</td>\n",
       "      <td>2023-02-08   15:32:43.4\\n22min ago</td>\n",
       "      <td>4.72</td>\n",
       "      <td>39.21</td>\n",
       "      <td>NaN</td>\n",
       "      <td>NaN</td>\n",
       "      <td>KENYA</td>\n",
       "      <td>NaN</td>\n",
       "    </tr>\n",
       "    <tr>\n",
       "      <th>1</th>\n",
       "      <td>NaN</td>\n",
       "      <td>2023-02-08   15:29:29.0\\n25min ago</td>\n",
       "      <td>42.05</td>\n",
       "      <td>73.92</td>\n",
       "      <td>NaN</td>\n",
       "      <td>NaN</td>\n",
       "      <td>ISLA CHILOE, LOS LAGOS, CHILE</td>\n",
       "      <td>NaN</td>\n",
       "    </tr>\n",
       "    <tr>\n",
       "      <th>2</th>\n",
       "      <td>NaN</td>\n",
       "      <td>2023-02-08   15:28:32.1\\n26min ago</td>\n",
       "      <td>38.15</td>\n",
       "      <td>38.34</td>\n",
       "      <td>NaN</td>\n",
       "      <td>NaN</td>\n",
       "      <td>EASTERN TURKEY</td>\n",
       "      <td>NaN</td>\n",
       "    </tr>\n",
       "    <tr>\n",
       "      <th>3</th>\n",
       "      <td>NaN</td>\n",
       "      <td>2023-02-08   15:25:58.3\\n28min ago</td>\n",
       "      <td>39.02</td>\n",
       "      <td>40.81</td>\n",
       "      <td>NaN</td>\n",
       "      <td>NaN</td>\n",
       "      <td>EASTERN TURKEY</td>\n",
       "      <td>NaN</td>\n",
       "    </tr>\n",
       "    <tr>\n",
       "      <th>4</th>\n",
       "      <td>NaN</td>\n",
       "      <td>2023-02-08   15:23:04.7\\n31min ago</td>\n",
       "      <td>37.58</td>\n",
       "      <td>38.06</td>\n",
       "      <td>NaN</td>\n",
       "      <td>NaN</td>\n",
       "      <td>EASTERN TURKEY</td>\n",
       "      <td>NaN</td>\n",
       "    </tr>\n",
       "  </tbody>\n",
       "</table>\n",
       "</div>"
      ],
      "text/plain": [
       "  Citizen\\nResponse                    Date & Time\\nUTC Latitude\\ndegrees  \\\n",
       "0               NaN  2023-02-08   15:32:43.4\\n22min ago              4.72   \n",
       "1               NaN  2023-02-08   15:29:29.0\\n25min ago             42.05   \n",
       "2               NaN  2023-02-08   15:28:32.1\\n26min ago             38.15   \n",
       "3               NaN  2023-02-08   15:25:58.3\\n28min ago             39.02   \n",
       "4               NaN  2023-02-08   15:23:04.7\\n31min ago             37.58   \n",
       "\n",
       "  Longitude\\ndegrees Depth\\nkm Mag\\n[+]               Region name\\n[+]       \n",
       "0              39.21       NaN      NaN                          KENYA  NaN  \n",
       "1              73.92       NaN      NaN  ISLA CHILOE, LOS LAGOS, CHILE  NaN  \n",
       "2              38.34       NaN      NaN                 EASTERN TURKEY  NaN  \n",
       "3              40.81       NaN      NaN                 EASTERN TURKEY  NaN  \n",
       "4              38.06       NaN      NaN                 EASTERN TURKEY  NaN  "
      ]
     },
     "execution_count": 36,
     "metadata": {},
     "output_type": "execute_result"
    }
   ],
   "source": [
    "df[litacabeceras[1]] = litsadate\n",
    "\n",
    "df[litacabeceras[2]] = latlist\n",
    "\n",
    "df[litacabeceras[3]] = lonlist \n",
    "\n",
    "df[litacabeceras[6]] = listaregion\n",
    "\n",
    "df.head()"
   ]
  },
  {
   "cell_type": "code",
   "execution_count": 37,
   "metadata": {},
   "outputs": [
    {
     "data": {
      "text/html": [
       "<div>\n",
       "<style scoped>\n",
       "    .dataframe tbody tr th:only-of-type {\n",
       "        vertical-align: middle;\n",
       "    }\n",
       "\n",
       "    .dataframe tbody tr th {\n",
       "        vertical-align: top;\n",
       "    }\n",
       "\n",
       "    .dataframe thead th {\n",
       "        text-align: right;\n",
       "    }\n",
       "</style>\n",
       "<table border=\"1\" class=\"dataframe\">\n",
       "  <thead>\n",
       "    <tr style=\"text-align: right;\">\n",
       "      <th></th>\n",
       "      <th>Date &amp; Time\\nUTC</th>\n",
       "      <th>Latitude\\ndegrees</th>\n",
       "      <th>Longitude\\ndegrees</th>\n",
       "      <th>Region name\\n[+]</th>\n",
       "      <th></th>\n",
       "    </tr>\n",
       "  </thead>\n",
       "  <tbody>\n",
       "    <tr>\n",
       "      <th>0</th>\n",
       "      <td>2023-02-08   15:32:43.4\\n22min ago</td>\n",
       "      <td>4.72</td>\n",
       "      <td>39.21</td>\n",
       "      <td>KENYA</td>\n",
       "      <td>NaN</td>\n",
       "    </tr>\n",
       "    <tr>\n",
       "      <th>1</th>\n",
       "      <td>2023-02-08   15:29:29.0\\n25min ago</td>\n",
       "      <td>42.05</td>\n",
       "      <td>73.92</td>\n",
       "      <td>ISLA CHILOE, LOS LAGOS, CHILE</td>\n",
       "      <td>NaN</td>\n",
       "    </tr>\n",
       "    <tr>\n",
       "      <th>2</th>\n",
       "      <td>2023-02-08   15:28:32.1\\n26min ago</td>\n",
       "      <td>38.15</td>\n",
       "      <td>38.34</td>\n",
       "      <td>EASTERN TURKEY</td>\n",
       "      <td>NaN</td>\n",
       "    </tr>\n",
       "    <tr>\n",
       "      <th>3</th>\n",
       "      <td>2023-02-08   15:25:58.3\\n28min ago</td>\n",
       "      <td>39.02</td>\n",
       "      <td>40.81</td>\n",
       "      <td>EASTERN TURKEY</td>\n",
       "      <td>NaN</td>\n",
       "    </tr>\n",
       "    <tr>\n",
       "      <th>4</th>\n",
       "      <td>2023-02-08   15:23:04.7\\n31min ago</td>\n",
       "      <td>37.58</td>\n",
       "      <td>38.06</td>\n",
       "      <td>EASTERN TURKEY</td>\n",
       "      <td>NaN</td>\n",
       "    </tr>\n",
       "    <tr>\n",
       "      <th>5</th>\n",
       "      <td>2023-02-08   15:22:32.2\\n32min ago</td>\n",
       "      <td>19.17</td>\n",
       "      <td>155.49</td>\n",
       "      <td>ISLAND OF HAWAII, HAWAII</td>\n",
       "      <td>NaN</td>\n",
       "    </tr>\n",
       "    <tr>\n",
       "      <th>6</th>\n",
       "      <td>2023-02-08   15:21:31.8\\n33min ago</td>\n",
       "      <td>39.14</td>\n",
       "      <td>40.15</td>\n",
       "      <td>EASTERN TURKEY</td>\n",
       "      <td>NaN</td>\n",
       "    </tr>\n",
       "    <tr>\n",
       "      <th>7</th>\n",
       "      <td>2023-02-08   15:16:17.3\\n38min ago</td>\n",
       "      <td>16.75</td>\n",
       "      <td>86.08</td>\n",
       "      <td>OFFSHORE HONDURAS</td>\n",
       "      <td>NaN</td>\n",
       "    </tr>\n",
       "    <tr>\n",
       "      <th>8</th>\n",
       "      <td>2023-02-08   15:11:13.0\\n43min ago</td>\n",
       "      <td>38.12</td>\n",
       "      <td>38.26</td>\n",
       "      <td>EASTERN TURKEY</td>\n",
       "      <td>NaN</td>\n",
       "    </tr>\n",
       "    <tr>\n",
       "      <th>9</th>\n",
       "      <td>2023-02-08   15:07:23.8\\n47min ago</td>\n",
       "      <td>38.54</td>\n",
       "      <td>37.76</td>\n",
       "      <td>CENTRAL TURKEY</td>\n",
       "      <td>NaN</td>\n",
       "    </tr>\n",
       "    <tr>\n",
       "      <th>10</th>\n",
       "      <td>2023-02-08   15:04:43.1\\n50min ago</td>\n",
       "      <td>38.04</td>\n",
       "      <td>37.04</td>\n",
       "      <td>CENTRAL TURKEY</td>\n",
       "      <td>NaN</td>\n",
       "    </tr>\n",
       "    <tr>\n",
       "      <th>11</th>\n",
       "      <td>2023-02-08   15:00:05.9\\n54min ago</td>\n",
       "      <td>38.12</td>\n",
       "      <td>37.24</td>\n",
       "      <td>CENTRAL TURKEY</td>\n",
       "      <td>NaN</td>\n",
       "    </tr>\n",
       "    <tr>\n",
       "      <th>12</th>\n",
       "      <td>2023-02-08   14:57:46.4\\n56min ago</td>\n",
       "      <td>37.30</td>\n",
       "      <td>37.05</td>\n",
       "      <td>CENTRAL TURKEY</td>\n",
       "      <td>NaN</td>\n",
       "    </tr>\n",
       "    <tr>\n",
       "      <th>13</th>\n",
       "      <td>2023-02-08   14:55:50.9\\n58min ago</td>\n",
       "      <td>38.11</td>\n",
       "      <td>38.53</td>\n",
       "      <td>EASTERN TURKEY</td>\n",
       "      <td>NaN</td>\n",
       "    </tr>\n",
       "    <tr>\n",
       "      <th>14</th>\n",
       "      <td>2023-02-08   14:39:22.2\\n1hr 15min ago</td>\n",
       "      <td>38.10</td>\n",
       "      <td>36.67</td>\n",
       "      <td>CENTRAL TURKEY</td>\n",
       "      <td>NaN</td>\n",
       "    </tr>\n",
       "    <tr>\n",
       "      <th>15</th>\n",
       "      <td>2023-02-08   14:38:15.0\\n1hr 16min ago</td>\n",
       "      <td>34.53</td>\n",
       "      <td>70.37</td>\n",
       "      <td>LIBERTADOR O'HIGGINS, CHILE</td>\n",
       "      <td>NaN</td>\n",
       "    </tr>\n",
       "    <tr>\n",
       "      <th>16</th>\n",
       "      <td>2023-02-08   14:34:37.0\\n1hr 20min ago</td>\n",
       "      <td>37.33</td>\n",
       "      <td>37.06</td>\n",
       "      <td>CENTRAL TURKEY</td>\n",
       "      <td>NaN</td>\n",
       "    </tr>\n",
       "    <tr>\n",
       "      <th>17</th>\n",
       "      <td>2023-02-08   14:33:22.8\\n1hr 21min ago</td>\n",
       "      <td>38.11</td>\n",
       "      <td>36.18</td>\n",
       "      <td>CENTRAL TURKEY</td>\n",
       "      <td>NaN</td>\n",
       "    </tr>\n",
       "    <tr>\n",
       "      <th>18</th>\n",
       "      <td>2023-02-08   14:30:30.6\\n1hr 24min ago</td>\n",
       "      <td>15.38</td>\n",
       "      <td>94.48</td>\n",
       "      <td>OFFSHORE OAXACA, MEXICO</td>\n",
       "      <td>NaN</td>\n",
       "    </tr>\n",
       "    <tr>\n",
       "      <th>19</th>\n",
       "      <td>2023-02-08   14:28:48.9\\n1hr 25min ago</td>\n",
       "      <td>37.25</td>\n",
       "      <td>36.79</td>\n",
       "      <td>CENTRAL TURKEY</td>\n",
       "      <td>NaN</td>\n",
       "    </tr>\n",
       "  </tbody>\n",
       "</table>\n",
       "</div>"
      ],
      "text/plain": [
       "                          Date & Time\\nUTC Latitude\\ndegrees  \\\n",
       "0       2023-02-08   15:32:43.4\\n22min ago              4.72   \n",
       "1       2023-02-08   15:29:29.0\\n25min ago             42.05   \n",
       "2       2023-02-08   15:28:32.1\\n26min ago             38.15   \n",
       "3       2023-02-08   15:25:58.3\\n28min ago             39.02   \n",
       "4       2023-02-08   15:23:04.7\\n31min ago             37.58   \n",
       "5       2023-02-08   15:22:32.2\\n32min ago             19.17   \n",
       "6       2023-02-08   15:21:31.8\\n33min ago             39.14   \n",
       "7       2023-02-08   15:16:17.3\\n38min ago             16.75   \n",
       "8       2023-02-08   15:11:13.0\\n43min ago             38.12   \n",
       "9       2023-02-08   15:07:23.8\\n47min ago             38.54   \n",
       "10      2023-02-08   15:04:43.1\\n50min ago             38.04   \n",
       "11      2023-02-08   15:00:05.9\\n54min ago             38.12   \n",
       "12      2023-02-08   14:57:46.4\\n56min ago             37.30   \n",
       "13      2023-02-08   14:55:50.9\\n58min ago             38.11   \n",
       "14  2023-02-08   14:39:22.2\\n1hr 15min ago             38.10   \n",
       "15  2023-02-08   14:38:15.0\\n1hr 16min ago             34.53   \n",
       "16  2023-02-08   14:34:37.0\\n1hr 20min ago             37.33   \n",
       "17  2023-02-08   14:33:22.8\\n1hr 21min ago             38.11   \n",
       "18  2023-02-08   14:30:30.6\\n1hr 24min ago             15.38   \n",
       "19  2023-02-08   14:28:48.9\\n1hr 25min ago             37.25   \n",
       "\n",
       "   Longitude\\ndegrees               Region name\\n[+]       \n",
       "0               39.21                          KENYA  NaN  \n",
       "1               73.92  ISLA CHILOE, LOS LAGOS, CHILE  NaN  \n",
       "2               38.34                 EASTERN TURKEY  NaN  \n",
       "3               40.81                 EASTERN TURKEY  NaN  \n",
       "4               38.06                 EASTERN TURKEY  NaN  \n",
       "5              155.49       ISLAND OF HAWAII, HAWAII  NaN  \n",
       "6               40.15                 EASTERN TURKEY  NaN  \n",
       "7               86.08              OFFSHORE HONDURAS  NaN  \n",
       "8               38.26                 EASTERN TURKEY  NaN  \n",
       "9               37.76                 CENTRAL TURKEY  NaN  \n",
       "10              37.04                 CENTRAL TURKEY  NaN  \n",
       "11              37.24                 CENTRAL TURKEY  NaN  \n",
       "12              37.05                 CENTRAL TURKEY  NaN  \n",
       "13              38.53                 EASTERN TURKEY  NaN  \n",
       "14              36.67                 CENTRAL TURKEY  NaN  \n",
       "15              70.37    LIBERTADOR O'HIGGINS, CHILE  NaN  \n",
       "16              37.06                 CENTRAL TURKEY  NaN  \n",
       "17              36.18                 CENTRAL TURKEY  NaN  \n",
       "18              94.48        OFFSHORE OAXACA, MEXICO  NaN  \n",
       "19              36.79                 CENTRAL TURKEY  NaN  "
      ]
     },
     "execution_count": 37,
     "metadata": {},
     "output_type": "execute_result"
    }
   ],
   "source": [
    "df = df.drop(columns=['Citizen\\nResponse', 'Depth\\nkm', 'Mag\\n[+]'], axis=1)\n",
    "\n",
    "df.head(20)"
   ]
  },
  {
   "cell_type": "markdown",
   "metadata": {},
   "source": [
    "#### Count number of tweets by a given Twitter account."
   ]
  },
  {
   "cell_type": "markdown",
   "metadata": {},
   "source": [
    "You will need to include a ***try/except block*** for account names not found. \n",
    "<br>***Hint:*** the program should count the number of tweets for any provided account"
   ]
  },
  {
   "cell_type": "code",
   "execution_count": 38,
   "metadata": {},
   "outputs": [],
   "source": [
    "# This is the url you will scrape in this exercise \n",
    "# You will need to add the account credentials to this url\n",
    "url = 'https://twitter.com/'"
   ]
  },
  {
   "cell_type": "code",
   "execution_count": 39,
   "metadata": {},
   "outputs": [],
   "source": [
    "#no se hace"
   ]
  },
  {
   "cell_type": "markdown",
   "metadata": {},
   "source": [
    "#### Number of followers of a given twitter account"
   ]
  },
  {
   "cell_type": "markdown",
   "metadata": {},
   "source": [
    "You will need to include a ***try/except block*** in case account/s name not found. \n",
    "<br>***Hint:*** the program should count the followers for any provided account"
   ]
  },
  {
   "cell_type": "code",
   "execution_count": 40,
   "metadata": {},
   "outputs": [],
   "source": [
    "# This is the url you will scrape in this exercise \n",
    "# You will need to add the account credentials to this url\n",
    "url = 'https://twitter.com/'"
   ]
  },
  {
   "cell_type": "code",
   "execution_count": 41,
   "metadata": {},
   "outputs": [],
   "source": [
    "#no se hace"
   ]
  },
  {
   "cell_type": "markdown",
   "metadata": {},
   "source": [
    "#### List all language names and number of related articles in the order they appear in wikipedia.org"
   ]
  },
  {
   "cell_type": "code",
   "execution_count": null,
   "metadata": {},
   "outputs": [],
   "source": [
    "# This is the url you will scrape in this exercise\n",
    "url = 'https://www.wikipedia.org/'"
   ]
  },
  {
   "cell_type": "code",
   "execution_count": null,
   "metadata": {},
   "outputs": [],
   "source": [
    "driver.get(url)"
   ]
  },
  {
   "cell_type": "markdown",
   "metadata": {},
   "source": [
    "#### A list with the different kind of datasets available in data.gov.uk "
   ]
  },
  {
   "cell_type": "code",
   "execution_count": 44,
   "metadata": {},
   "outputs": [],
   "source": [
    "# This is the url you will scrape in this exercise\n",
    "url = 'https://data.gov.uk/'"
   ]
  },
  {
   "cell_type": "code",
   "execution_count": 45,
   "metadata": {},
   "outputs": [],
   "source": [
    "#your code "
   ]
  },
  {
   "cell_type": "markdown",
   "metadata": {},
   "source": [
    "#### Top 10 languages by number of native speakers stored in a Pandas Dataframe"
   ]
  },
  {
   "cell_type": "code",
   "execution_count": 46,
   "metadata": {},
   "outputs": [],
   "source": [
    "# This is the url you will scrape in this exercise\n",
    "url = 'https://en.wikipedia.org/wiki/List_of_languages_by_number_of_native_speakers'"
   ]
  },
  {
   "cell_type": "code",
   "execution_count": 47,
   "metadata": {},
   "outputs": [],
   "source": [
    "#your code"
   ]
  },
  {
   "cell_type": "markdown",
   "metadata": {},
   "source": [
    "### BONUS QUESTIONS"
   ]
  },
  {
   "cell_type": "markdown",
   "metadata": {},
   "source": [
    "#### Scrape a certain number of tweets of a given Twitter account."
   ]
  },
  {
   "cell_type": "code",
   "execution_count": 48,
   "metadata": {},
   "outputs": [],
   "source": [
    "# This is the url you will scrape in this exercise \n",
    "# You will need to add the account credentials to this url\n",
    "url = 'https://twitter.com/'"
   ]
  },
  {
   "cell_type": "code",
   "execution_count": 49,
   "metadata": {},
   "outputs": [],
   "source": [
    "# your code"
   ]
  },
  {
   "cell_type": "markdown",
   "metadata": {},
   "source": [
    "#### IMDB's Top 250 data (movie name, Initial release, director name and stars) as a pandas dataframe"
   ]
  },
  {
   "cell_type": "code",
   "execution_count": 50,
   "metadata": {},
   "outputs": [],
   "source": [
    "# This is the url you will scrape in this exercise \n",
    "url = 'https://www.imdb.com/chart/top'"
   ]
  },
  {
   "cell_type": "code",
   "execution_count": 51,
   "metadata": {},
   "outputs": [],
   "source": [
    "# your code"
   ]
  },
  {
   "cell_type": "markdown",
   "metadata": {},
   "source": [
    "#### Movie name, year and a brief summary of the top 10 random movies (IMDB) as a pandas dataframe."
   ]
  },
  {
   "cell_type": "code",
   "execution_count": 52,
   "metadata": {},
   "outputs": [],
   "source": [
    "#This is the url you will scrape in this exercise\n",
    "url = 'http://www.imdb.com/chart/top'"
   ]
  },
  {
   "cell_type": "code",
   "execution_count": 53,
   "metadata": {},
   "outputs": [],
   "source": [
    "#your code"
   ]
  },
  {
   "cell_type": "markdown",
   "metadata": {},
   "source": [
    "#### Find the live weather report (temperature, wind speed, description and weather) of a given city."
   ]
  },
  {
   "cell_type": "code",
   "execution_count": 54,
   "metadata": {},
   "outputs": [
    {
     "ename": "KeyboardInterrupt",
     "evalue": "Interrupted by user",
     "output_type": "error",
     "traceback": [
      "\u001b[1;31m---------------------------------------------------------------------------\u001b[0m",
      "\u001b[1;31mKeyboardInterrupt\u001b[0m                         Traceback (most recent call last)",
      "\u001b[1;32m~\\AppData\\Local\\Temp\\ipykernel_25212\\99816551.py\u001b[0m in \u001b[0;36m<module>\u001b[1;34m\u001b[0m\n\u001b[0;32m      1\u001b[0m \u001b[1;31m#https://openweathermap.org/current\u001b[0m\u001b[1;33m\u001b[0m\u001b[1;33m\u001b[0m\u001b[0m\n\u001b[1;32m----> 2\u001b[1;33m \u001b[0mcity\u001b[0m \u001b[1;33m=\u001b[0m \u001b[0mcity\u001b[0m\u001b[1;33m=\u001b[0m\u001b[0minput\u001b[0m\u001b[1;33m(\u001b[0m\u001b[1;34m'Enter the city:'\u001b[0m\u001b[1;33m)\u001b[0m\u001b[1;33m\u001b[0m\u001b[1;33m\u001b[0m\u001b[0m\n\u001b[0m\u001b[0;32m      3\u001b[0m \u001b[0murl\u001b[0m \u001b[1;33m=\u001b[0m \u001b[1;34m'http://api.openweathermap.org/data/2.5/weather?'\u001b[0m\u001b[1;33m+\u001b[0m\u001b[1;34m'q='\u001b[0m\u001b[1;33m+\u001b[0m\u001b[0mcity\u001b[0m\u001b[1;33m+\u001b[0m\u001b[1;34m'&APPID=b35975e18dc93725acb092f7272cc6b8&units=metric'\u001b[0m\u001b[1;33m\u001b[0m\u001b[1;33m\u001b[0m\u001b[0m\n",
      "\u001b[1;32m~\\anaconda3\\lib\\site-packages\\ipykernel\\kernelbase.py\u001b[0m in \u001b[0;36mraw_input\u001b[1;34m(self, prompt)\u001b[0m\n\u001b[0;32m   1175\u001b[0m                 \u001b[1;34m\"raw_input was called, but this frontend does not support input requests.\"\u001b[0m\u001b[1;33m\u001b[0m\u001b[1;33m\u001b[0m\u001b[0m\n\u001b[0;32m   1176\u001b[0m             )\n\u001b[1;32m-> 1177\u001b[1;33m         return self._input_request(\n\u001b[0m\u001b[0;32m   1178\u001b[0m             \u001b[0mstr\u001b[0m\u001b[1;33m(\u001b[0m\u001b[0mprompt\u001b[0m\u001b[1;33m)\u001b[0m\u001b[1;33m,\u001b[0m\u001b[1;33m\u001b[0m\u001b[1;33m\u001b[0m\u001b[0m\n\u001b[0;32m   1179\u001b[0m             \u001b[0mself\u001b[0m\u001b[1;33m.\u001b[0m\u001b[0m_parent_ident\u001b[0m\u001b[1;33m[\u001b[0m\u001b[1;34m\"shell\"\u001b[0m\u001b[1;33m]\u001b[0m\u001b[1;33m,\u001b[0m\u001b[1;33m\u001b[0m\u001b[1;33m\u001b[0m\u001b[0m\n",
      "\u001b[1;32m~\\anaconda3\\lib\\site-packages\\ipykernel\\kernelbase.py\u001b[0m in \u001b[0;36m_input_request\u001b[1;34m(self, prompt, ident, parent, password)\u001b[0m\n\u001b[0;32m   1217\u001b[0m             \u001b[1;32mexcept\u001b[0m \u001b[0mKeyboardInterrupt\u001b[0m\u001b[1;33m:\u001b[0m\u001b[1;33m\u001b[0m\u001b[1;33m\u001b[0m\u001b[0m\n\u001b[0;32m   1218\u001b[0m                 \u001b[1;31m# re-raise KeyboardInterrupt, to truncate traceback\u001b[0m\u001b[1;33m\u001b[0m\u001b[1;33m\u001b[0m\u001b[0m\n\u001b[1;32m-> 1219\u001b[1;33m                 \u001b[1;32mraise\u001b[0m \u001b[0mKeyboardInterrupt\u001b[0m\u001b[1;33m(\u001b[0m\u001b[1;34m\"Interrupted by user\"\u001b[0m\u001b[1;33m)\u001b[0m \u001b[1;32mfrom\u001b[0m \u001b[1;32mNone\u001b[0m\u001b[1;33m\u001b[0m\u001b[1;33m\u001b[0m\u001b[0m\n\u001b[0m\u001b[0;32m   1220\u001b[0m             \u001b[1;32mexcept\u001b[0m \u001b[0mException\u001b[0m\u001b[1;33m:\u001b[0m\u001b[1;33m\u001b[0m\u001b[1;33m\u001b[0m\u001b[0m\n\u001b[0;32m   1221\u001b[0m                 \u001b[0mself\u001b[0m\u001b[1;33m.\u001b[0m\u001b[0mlog\u001b[0m\u001b[1;33m.\u001b[0m\u001b[0mwarning\u001b[0m\u001b[1;33m(\u001b[0m\u001b[1;34m\"Invalid Message:\"\u001b[0m\u001b[1;33m,\u001b[0m \u001b[0mexc_info\u001b[0m\u001b[1;33m=\u001b[0m\u001b[1;32mTrue\u001b[0m\u001b[1;33m)\u001b[0m\u001b[1;33m\u001b[0m\u001b[1;33m\u001b[0m\u001b[0m\n",
      "\u001b[1;31mKeyboardInterrupt\u001b[0m: Interrupted by user"
     ]
    }
   ],
   "source": [
    "#https://openweathermap.org/current\n",
    "city = city=input('Enter the city:')\n",
    "url = 'http://api.openweathermap.org/data/2.5/weather?'+'q='+city+'&APPID=b35975e18dc93725acb092f7272cc6b8&units=metric'"
   ]
  },
  {
   "cell_type": "code",
   "execution_count": null,
   "metadata": {},
   "outputs": [],
   "source": [
    "# your code"
   ]
  },
  {
   "cell_type": "markdown",
   "metadata": {},
   "source": [
    "#### Book name,price and stock availability as a pandas dataframe."
   ]
  },
  {
   "cell_type": "code",
   "execution_count": null,
   "metadata": {},
   "outputs": [],
   "source": [
    "# This is the url you will scrape in this exercise. \n",
    "# It is a fictional bookstore created to be scraped. \n",
    "url = 'http://books.toscrape.com/'"
   ]
  },
  {
   "cell_type": "code",
   "execution_count": null,
   "metadata": {},
   "outputs": [],
   "source": [
    "#your code"
   ]
  }
 ],
 "metadata": {
  "kernelspec": {
   "display_name": "Python 3 (ipykernel)",
   "language": "python",
   "name": "python3"
  },
  "language_info": {
   "codemirror_mode": {
    "name": "ipython",
    "version": 3
   },
   "file_extension": ".py",
   "mimetype": "text/x-python",
   "name": "python",
   "nbconvert_exporter": "python",
   "pygments_lexer": "ipython3",
   "version": "3.9.13"
  }
 },
 "nbformat": 4,
 "nbformat_minor": 2
}
